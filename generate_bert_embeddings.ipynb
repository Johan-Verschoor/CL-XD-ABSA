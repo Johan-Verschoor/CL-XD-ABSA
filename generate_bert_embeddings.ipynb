{
 "cells": [
  {
   "cell_type": "code",
   "outputs": [
    {
     "name": "stdout",
     "output_type": "stream",
     "text": [
      "Requirement already satisfied: transformers in c:\\users\\johan\\appdata\\local\\programs\\python\\python37\\lib\\site-packages (4.30.2)\n",
      "Requirement already satisfied: packaging>=20.0 in c:\\users\\johan\\appdata\\local\\programs\\python\\python37\\lib\\site-packages (from transformers) (24.0)\n",
      "Requirement already satisfied: huggingface-hub<1.0,>=0.14.1 in c:\\users\\johan\\appdata\\local\\programs\\python\\python37\\lib\\site-packages (from transformers) (0.16.4)\n",
      "Requirement already satisfied: numpy>=1.17 in c:\\users\\johan\\appdata\\local\\programs\\python\\python37\\lib\\site-packages (from transformers) (1.21.6)\n",
      "Requirement already satisfied: filelock in c:\\users\\johan\\appdata\\local\\programs\\python\\python37\\lib\\site-packages (from transformers) (3.12.2)\n",
      "Requirement already satisfied: tqdm>=4.27 in c:\\users\\johan\\appdata\\local\\programs\\python\\python37\\lib\\site-packages (from transformers) (4.64.1)\n",
      "Requirement already satisfied: safetensors>=0.3.1 in c:\\users\\johan\\appdata\\local\\programs\\python\\python37\\lib\\site-packages (from transformers) (0.4.4)\n",
      "Requirement already satisfied: tokenizers!=0.11.3,<0.14,>=0.11.1 in c:\\users\\johan\\appdata\\local\\programs\\python\\python37\\lib\\site-packages (from transformers) (0.13.3)\n",
      "Requirement already satisfied: importlib-metadata; python_version < \"3.8\" in c:\\users\\johan\\appdata\\local\\programs\\python\\python37\\lib\\site-packages (from transformers) (6.0.0)\n",
      "Requirement already satisfied: regex!=2019.12.17 in c:\\users\\johan\\appdata\\local\\programs\\python\\python37\\lib\\site-packages (from transformers) (2022.10.31)\n",
      "Requirement already satisfied: requests in c:\\users\\johan\\appdata\\local\\programs\\python\\python37\\lib\\site-packages (from transformers) (2.31.0)\n",
      "Requirement already satisfied: pyyaml>=5.1 in c:\\users\\johan\\appdata\\local\\programs\\python\\python37\\lib\\site-packages (from transformers) (6.0.1)\n",
      "Requirement already satisfied: typing-extensions>=3.7.4.3 in c:\\users\\johan\\appdata\\local\\programs\\python\\python37\\lib\\site-packages (from huggingface-hub<1.0,>=0.14.1->transformers) (4.4.0)\n",
      "Requirement already satisfied: fsspec in c:\\users\\johan\\appdata\\local\\programs\\python\\python37\\lib\\site-packages (from huggingface-hub<1.0,>=0.14.1->transformers) (2023.1.0)\n",
      "Requirement already satisfied: colorama; platform_system == \"Windows\" in c:\\users\\johan\\appdata\\local\\programs\\python\\python37\\lib\\site-packages (from tqdm>=4.27->transformers) (0.4.6)\n",
      "Requirement already satisfied: zipp>=0.5 in c:\\users\\johan\\appdata\\local\\programs\\python\\python37\\lib\\site-packages (from importlib-metadata; python_version < \"3.8\"->transformers) (3.12.0)\n",
      "Requirement already satisfied: certifi>=2017.4.17 in c:\\users\\johan\\appdata\\local\\programs\\python\\python37\\lib\\site-packages (from requests->transformers) (2024.7.4)\n",
      "Requirement already satisfied: charset-normalizer<4,>=2 in c:\\users\\johan\\appdata\\local\\programs\\python\\python37\\lib\\site-packages (from requests->transformers) (3.3.2)\n",
      "Requirement already satisfied: idna<4,>=2.5 in c:\\users\\johan\\appdata\\local\\programs\\python\\python37\\lib\\site-packages (from requests->transformers) (3.7)\n",
      "Requirement already satisfied: urllib3<3,>=1.21.1 in c:\\users\\johan\\appdata\\local\\programs\\python\\python37\\lib\\site-packages (from requests->transformers) (2.0.7)\n"
     ]
    },
    {
     "name": "stderr",
     "output_type": "stream",
     "text": [
      "WARNING: You are using pip version 20.1.1; however, version 24.0 is available.\n",
      "You should consider upgrading via the 'c:\\users\\johan\\appdata\\local\\programs\\python\\python37\\python.exe -m pip install --upgrade pip' command.\n"
     ]
    },
    {
     "name": "stdout",
     "output_type": "stream",
     "text": [
      "Requirement already satisfied: torch in c:\\users\\johan\\appdata\\local\\programs\\python\\python37\\lib\\site-packages (1.13.1)\n",
      "Requirement already satisfied: typing-extensions in c:\\users\\johan\\appdata\\local\\programs\\python\\python37\\lib\\site-packages (from torch) (4.4.0)\n"
     ]
    },
    {
     "name": "stderr",
     "output_type": "stream",
     "text": [
      "WARNING: You are using pip version 20.1.1; however, version 24.0 is available.\n",
      "You should consider upgrading via the 'c:\\users\\johan\\appdata\\local\\programs\\python\\python37\\python.exe -m pip install --upgrade pip' command.\n",
      "Some weights of the model checkpoint at bert-base-uncased were not used when initializing BertModel: ['cls.seq_relationship.bias', 'cls.predictions.transform.LayerNorm.bias', 'cls.predictions.transform.LayerNorm.weight', 'cls.predictions.bias', 'cls.seq_relationship.weight', 'cls.predictions.transform.dense.weight', 'cls.predictions.transform.dense.bias']\n",
      "- This IS expected if you are initializing BertModel from the checkpoint of a model trained on another task or with another architecture (e.g. initializing a BertForSequenceClassification model from a BertForPreTraining model).\n",
      "- This IS NOT expected if you are initializing BertModel from the checkpoint of a model that you expect to be exactly identical (initializing a BertForSequenceClassification model from a BertForSequenceClassification model).\n"
     ]
    }
   ],
   "source": [
    "!pip install transformers\n",
    "!pip install torch\n",
    "from transformers import AutoTokenizer, BertModel\n",
    "import torch\n",
    "\n",
    "tokenizer = AutoTokenizer.from_pretrained(\"bert-base-uncased\")\n",
    "model = BertModel.from_pretrained(\"bert-base-uncased\")\n",
    "     "
   ],
   "metadata": {
    "collapsed": false,
    "ExecuteTime": {
     "end_time": "2024-08-27T10:31:48.594276Z",
     "start_time": "2024-08-27T10:31:42.959665Z"
    }
   },
   "id": "49ebec8bd190a5e",
   "execution_count": 1
  },
  {
   "cell_type": "code",
   "outputs": [
    {
     "ename": "ModuleNotFoundError",
     "evalue": "No module named 'google.colab'",
     "output_type": "error",
     "traceback": [
      "\u001B[1;31m---------------------------------------------------------------------------\u001B[0m",
      "\u001B[1;31mModuleNotFoundError\u001B[0m                       Traceback (most recent call last)",
      "\u001B[1;32m~\\AppData\\Local\\Temp\\ipykernel_1972\\655143678.py\u001B[0m in \u001B[0;36m<module>\u001B[1;34m\u001B[0m\n\u001B[1;32m----> 1\u001B[1;33m \u001B[1;32mfrom\u001B[0m \u001B[0mgoogle\u001B[0m\u001B[1;33m.\u001B[0m\u001B[0mcolab\u001B[0m \u001B[1;32mimport\u001B[0m \u001B[0mdrive\u001B[0m\u001B[1;33m\u001B[0m\u001B[1;33m\u001B[0m\u001B[0m\n\u001B[0m\u001B[0;32m      2\u001B[0m \u001B[0mdrive\u001B[0m\u001B[1;33m.\u001B[0m\u001B[0mmount\u001B[0m\u001B[1;33m(\u001B[0m\u001B[1;34m'/content/drive'\u001B[0m\u001B[1;33m,\u001B[0m \u001B[0mforce_remount\u001B[0m\u001B[1;33m=\u001B[0m\u001B[1;32mTrue\u001B[0m\u001B[1;33m)\u001B[0m\u001B[1;33m\u001B[0m\u001B[1;33m\u001B[0m\u001B[0m\n",
      "\u001B[1;31mModuleNotFoundError\u001B[0m: No module named 'google.colab'"
     ]
    }
   ],
   "source": [
    "from google.colab import drive\n",
    "drive.mount('/content/drive', force_remount=True)"
   ],
   "metadata": {
    "collapsed": false,
    "ExecuteTime": {
     "end_time": "2024-08-27T10:32:32.540357Z",
     "start_time": "2024-08-27T10:32:32.420482Z"
    }
   },
   "id": "e4edf2e5c9c8ccda",
   "execution_count": 2
  },
  {
   "cell_type": "code",
   "outputs": [],
   "source": [
    "import json, os\n",
    "import numpy as np\n",
    "words_dict = {}\n",
    "# words_emb = {}\n",
    "path1 = '/content/drive/MyDrive/raw_data_book_2019.txt'\n",
    "path2 = '/content/drive/MyDrive/BERTwordembeddings_book.txt'\n",
    "with open(path1, 'r') as myfile: data2=myfile.read().splitlines() \n",
    "for i in range(0, len(data2), 3):\n",
    "  if i %500==0:\n",
    "    print(i)\n",
    "  text = data2[i].replace('\n",
    "', data2[i+1])\n",
    "  inputs = tokenizer(text, return_tensors=\"pt\")\n",
    "  words = tokenizer.convert_ids_to_tokens(inputs.input_ids[0], skip_special_tokens=False)\n",
    "  outputs = model(**inputs, output_hidden_states = True)\n",
    "  last_output_layers = torch.stack(outputs[2][-4:])\n",
    "  emb = torch.sum(last_output_layers, dim=0)\n",
    "  emb = torch.squeeze(emb)\n",
    "  emb = emb.detach().numpy()\n",
    "  for j in range(len(np.array(inputs.input_ids)[0])):\n",
    "    word = words[j]\n",
    "    if word == '[CLS]' or word == '[SEP]':\n",
    "      continue\n",
    "    if word not in words_dict.keys():\n",
    "      words_dict[word] = 0\n",
    "    else:\n",
    "      words_dict[word] = words_dict[word] + 1\n",
    "    new_word = word+'_'+str(words_dict[word])\n",
    "    # words_emb[new_word] = emb[j]\n",
    "    outfile = open(path2,'a')\n",
    "    outp = new_word + \" \" + ' '.join([str(elem) for elem in emb[j]]) + \"\\n\"\n",
    "    outfile.write(outp)\n",
    "outfile.close()\n"
   ],
   "metadata": {
    "collapsed": false
   },
   "id": "14c2c654b8ffb0b2"
  }
 ],
 "metadata": {
  "kernelspec": {
   "display_name": "Python 3",
   "language": "python",
   "name": "python3"
  },
  "language_info": {
   "codemirror_mode": {
    "name": "ipython",
    "version": 2
   },
   "file_extension": ".py",
   "mimetype": "text/x-python",
   "name": "python",
   "nbconvert_exporter": "python",
   "pygments_lexer": "ipython2",
   "version": "2.7.6"
  }
 },
 "nbformat": 4,
 "nbformat_minor": 5
}
